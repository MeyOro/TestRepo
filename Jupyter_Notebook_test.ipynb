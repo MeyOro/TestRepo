{
 "cells": [
  {
   "cell_type": "markdown",
   "metadata": {},
   "source": [
    "<center>\n",
    "    <img src=\"https://cf-courses-data.s3.us.cloud-object-storage.appdomain.cloud/IBMDeveloperSkillsNetwork-DS0105EN-SkillsNetwork/labs/Module2/images/SN_web_lightmode.png\" width=\"300\" alt=\"cognitiveclass.ai logo\">\n",
    "</center>\n"
   ]
  },
  {
   "cell_type": "markdown",
   "metadata": {},
   "source": [
    "# Peer review Jupyter notebook"
   ]
  },
  {
   "cell_type": "markdown",
   "metadata": {},
   "source": [
    "# Introduction: \n",
    "Data Science Practice Project. his notebook contains a series of exercises designed to showcase basic concepts, tools, and techniques used in the field of Data Science"
   ]
  },
  {
   "cell_type": "markdown",
   "metadata": {},
   "source": [
    "# Data Science Languages  \n",
    "The most commonly used programming languages in Data Science are:\n",
    "- Python  \n",
    "- R  \n",
    "- SQL  \n",
    "- Java  \n",
    "- Scala  "
   ]
  },
  {
   "cell_type": "markdown",
   "metadata": {},
   "source": [
    "# Data Science Libraries:\n",
    "- Pandas  \n",
    "- NumPy  \n",
    "- Matplotlib  \n",
    "- Scikit-learn  \n",
    "- TensorFlow  "
   ]
  },
  {
   "cell_type": "markdown",
   "metadata": {},
   "source": [
    "# Table of Data Science Tools  \n",
    "\n",
    "| Tool            | Description                               |\n",
    "|-----------------|-------------------------------------------|\n",
    "| Jupyter Notebook| Interactive coding environment            |\n",
    "| RStudio         | IDE for R programming                     |\n",
    "| Apache Spark    | Big Data processing and analytics         |\n",
    "| VS Code         | Lightweight and powerful code editor      |\n",
    "| Watson Studio   | Cloud-based Data Science platform         |\n"
   ]
  },
  {
   "cell_type": "markdown",
   "metadata": {},
   "source": [
    "# Exercise 7 - Introduction to Arithmetic Expressions  \n",
    "Now let's explore a few basic arithmetic expressions using Python.\n"
   ]
  },
  {
   "cell_type": "code",
   "execution_count": 11,
   "metadata": {},
   "outputs": [
    {
     "name": "stdout",
     "output_type": "stream",
     "text": [
      "Result: 88\n"
     ]
    }
   ],
   "source": [
    "# Multiply and Add Numbers\n",
    "result = (5 * 17) + 3\n",
    "print(\"Result:\", result)"
   ]
  },
  {
   "cell_type": "code",
   "execution_count": 10,
   "metadata": {},
   "outputs": [
    {
     "name": "stdout",
     "output_type": "stream",
     "text": [
      "Hours: 2.5\n"
     ]
    }
   ],
   "source": [
    "# Convert Minutes to Hours\n",
    "minutes = 150\n",
    "hours = minutes / 60\n",
    "print(\"Hours:\", hours)"
   ]
  },
  {
   "cell_type": "markdown",
   "metadata": {},
   "source": [
    "#  Objectives  \n",
    "By the end of this notebook, you should be able to:\n",
    "- Understand basic Data Science terminology  \n",
    "- Recognize core programming languages and libraries used in the field  \n",
    "- Apply simple arithmetic and data manipulation in code  \n",
    "- Use Markdown to document and organize your notebook effectively  \n"
   ]
  },
  {
   "cell_type": "code",
   "execution_count": null,
   "metadata": {},
   "outputs": [],
   "source": []
  }
 ],
 "metadata": {
  "kernelspec": {
   "display_name": "Python 3 (ipykernel)",
   "language": "python",
   "name": "python3"
  },
  "language_info": {
   "codemirror_mode": {
    "name": "ipython",
    "version": 3
   },
   "file_extension": ".py",
   "mimetype": "text/x-python",
   "name": "python",
   "nbconvert_exporter": "python",
   "pygments_lexer": "ipython3",
   "version": "3.12.8"
  }
 },
 "nbformat": 4,
 "nbformat_minor": 4
}
{
   "cell_type": "markdown",
   "metadata": {},
   "source": [
    "Maricarmen Orozco Muñiz\n",
    "Electronic Engineer  "
   ]
  },
